{
 "cells": [
  {
   "cell_type": "code",
   "execution_count": 43,
   "outputs": [],
   "source": [
    "import os\n",
    "import re\n",
    "import numpy as np\n",
    "import torch\n",
    "import torch.nn as nn\n",
    "from torch.utils import data\n",
    "from glob import glob"
   ],
   "metadata": {
    "collapsed": false,
    "pycharm": {
     "name": "#%%\n"
    }
   }
  },
  {
   "cell_type": "markdown",
   "source": [
    "# Prepare Dataset"
   ],
   "metadata": {
    "collapsed": false,
    "pycharm": {
     "name": "#%% md\n"
    }
   }
  },
  {
   "cell_type": "code",
   "execution_count": 29,
   "outputs": [],
   "source": [
    "POSE_FEATURE_PATH = \"D:/CU Files/IoT/Featurized_dataset/\"\n",
    "IMAGE_FEATURE_PATH = \"D:/CU Files/IoT/image_feature/resnet50/\"\n",
    "\n",
    "def get_path_dict(pose_feature_path,\n",
    "                  image_feature_path):\n",
    "    all_pose_path = [y for y in glob(os.path.join(pose_feature_path, \"*.mp4.npz\"))]\n",
    "    all_pose_name = [re.findall(\"Featurized_dataset\\\\\\\\(.+).mp4.npz\", path)[0]\n",
    "                     for path in all_pose_path]\n",
    "    all_image_path = [y for y in glob(os.path.join(image_feature_path, \"*.mp4.npz\"))]\n",
    "    all_image_name = [re.findall(image_feature_path[:-1] + \"\\\\\\\\(.+).mp4.npz\", path)[0] for path in all_image_path]\n",
    "    name_intersection = list(set(all_pose_name).intersection(set(all_image_name)))\n",
    "\n",
    "    print(\"{} pose feature files\".format(len(all_pose_name)))\n",
    "    print(\"{} image feature files\".format(len(all_image_name)))\n",
    "    print(\"{} feature files available\".format(len(name_intersection)))\n",
    "\n",
    "\n",
    "    pi_path_dict = {}   # get a dictionary which records the pose and image feature path\n",
    "    for i, feature_name in enumerate(all_pose_name):\n",
    "        try:\n",
    "            idx = all_image_name.index(feature_name)\n",
    "        except:\n",
    "            continue\n",
    "        pose_path = all_pose_path[i]\n",
    "        image_path = all_image_path[idx]\n",
    "        pi_path_dict[feature_name] = (pose_path, image_path)\n",
    "\n",
    "    return pi_path_dict"
   ],
   "metadata": {
    "collapsed": false,
    "pycharm": {
     "name": "#%%\n"
    }
   }
  },
  {
   "cell_type": "code",
   "execution_count": 31,
   "outputs": [
    {
     "name": "stdout",
     "output_type": "stream",
     "text": [
      "977 pose feature files\n",
      "969 image feature files\n",
      "969 feature files available\n"
     ]
    }
   ],
   "source": [
    "path_dict = get_path_dict(pose_feature_path=POSE_FEATURE_PATH, image_feature_path=IMAGE_FEATURE_PATH)"
   ],
   "metadata": {
    "collapsed": false,
    "pycharm": {
     "name": "#%%\n"
    }
   }
  },
  {
   "cell_type": "code",
   "execution_count": 45,
   "outputs": [
    {
     "name": "stdout",
     "output_type": "stream",
     "text": [
      "['boxes', 'segments', 'keypoints', 'metadata']\n"
     ]
    }
   ],
   "source": [
    "for feature_name, (pose_path, image_path) in path_dict.items():\n",
    "    pose_file = np.load(pose_path, allow_pickle=True)\n",
    "    print(pose_file.files)\n",
    "    break"
   ],
   "metadata": {
    "collapsed": false,
    "pycharm": {
     "name": "#%%\n"
    }
   }
  },
  {
   "cell_type": "code",
   "execution_count": 35,
   "outputs": [],
   "source": [
    "class mydataset(data.Dataset):\n",
    "    def __init__(self, path_dict):\n",
    "        self.path_dict = path_dict\n",
    "        self.Data, self.Label = self._get_features()\n",
    "\n",
    "    def _get_features(self, pose=True, image=True):\n",
    "        features = []\n",
    "        labels = []\n",
    "        self.__label_encoder = {'no_interaction':0,\n",
    "                                'open_close_fridge':1,\n",
    "                                'put_back_item':2,\n",
    "                                'screen_interaction':3,\n",
    "                                'take_out_item':4}\n",
    "        for feature_name, (pose_path, image_path) in path_dict.items():\n",
    "            label = '_'.join(feature_name.split('_')[:-3])\n",
    "            labels.append(label)\n",
    "            this_feature = self._get_single_feature(pose_path, image_path, pose, image)\n",
    "\n",
    "    def _get_single_feature(self, pose_path, image_path, pose, image):\n",
    "        pass\n",
    "\n",
    "\n",
    "    def __getitem__(self, index):\n",
    "        x = self.X[index]\n",
    "        label = self.Label[index]\n",
    "        return x, label\n",
    "\n",
    "    def __len__(self):\n",
    "        return len(self.Label)"
   ],
   "metadata": {
    "collapsed": false,
    "pycharm": {
     "name": "#%%\n"
    }
   }
  },
  {
   "cell_type": "code",
   "execution_count": 36,
   "outputs": [
    {
     "name": "stdout",
     "output_type": "stream",
     "text": [
      "data is read\n"
     ]
    }
   ],
   "source": [
    "train_dataset = mydataset()\n",
    "train_loader = data.DataLoader(train_dataset, batch_size=100, shuffle=True)"
   ],
   "metadata": {
    "collapsed": false,
    "pycharm": {
     "name": "#%%\n"
    }
   }
  },
  {
   "cell_type": "code",
   "execution_count": 37,
   "outputs": [],
   "source": [
    "for epoch in range(5):\n",
    "    for _ in train_loader:\n",
    "        continue"
   ],
   "metadata": {
    "collapsed": false,
    "pycharm": {
     "name": "#%%\n"
    }
   }
  },
  {
   "cell_type": "code",
   "execution_count": null,
   "outputs": [],
   "source": [],
   "metadata": {
    "collapsed": false,
    "pycharm": {
     "name": "#%%\n"
    }
   }
  }
 ],
 "metadata": {
  "kernelspec": {
   "display_name": "Python 3",
   "language": "python",
   "name": "python3"
  },
  "language_info": {
   "codemirror_mode": {
    "name": "ipython",
    "version": 2
   },
   "file_extension": ".py",
   "mimetype": "text/x-python",
   "name": "python",
   "nbconvert_exporter": "python",
   "pygments_lexer": "ipython2",
   "version": "2.7.6"
  }
 },
 "nbformat": 4,
 "nbformat_minor": 0
}